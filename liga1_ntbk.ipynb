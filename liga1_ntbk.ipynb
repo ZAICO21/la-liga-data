{
 "cells": [
  {
   "cell_type": "code",
   "execution_count": null,
   "metadata": {},
   "outputs": [],
   "source": [
    "import pandas as pd\n",
    "import numpy as np\n",
    "from bs4 import BeautifulSoup\n",
    "import requests"
   ]
  },
  {
   "cell_type": "markdown",
   "metadata": {},
   "source": [
    "Tabla de posiciones La Liga 2000 - 2024"
   ]
  },
  {
   "cell_type": "code",
   "execution_count": null,
   "metadata": {},
   "outputs": [],
   "source": [
    "\"\"\" \n",
    "    Se procede a crear una lista que contenga los años desde los cuales comenzaron las temporadas de la liga española de fútbol desde 1999 hasta 2023.\n",
    "    Esta elección fue realizada para poder obtener los datos de los ganadores del torneo en el siglo XXI \n",
    "\"\"\"\n",
    "temporadas = [\"1999\"] + [str(2000 + i) for i in range(24)]\n",
    "\n",
    "\n",
    "base_clubes_url = \"https://www.transfermarkt.pe/laliga/tabelle/wettbewerb/ES1/saison_id/\"\n",
    "\n",
    "dataframes_teams = []\n",
    "\n",
    "headers = {\n",
    "    \"User-Agent\": \"Mozilla/5.0 (Windows NT 10.0; Win64; x64) AppleWebKit/537.36 (KHTML, like Gecko) Chrome/91.0.4472.124 Safari/537.36\"\n",
    "}"
   ]
  },
  {
   "cell_type": "code",
   "execution_count": null,
   "metadata": {},
   "outputs": [],
   "source": [
    "# Función para generar el ID de las columnas necesarias\n",
    "def generadorID(tamanio_arreglo, letra):\n",
    "    return [f\"{letra}{id}\" for id in range(tamanio_arreglo)]"
   ]
  },
  {
   "cell_type": "code",
   "execution_count": null,
   "metadata": {},
   "outputs": [],
   "source": [
    "# Se genera una lista de IDs para las temporadas\n",
    "temporadas_ID = generadorID(len(temporadas), \"T\")"
   ]
  },
  {
   "cell_type": "code",
   "execution_count": null,
   "metadata": {},
   "outputs": [],
   "source": [
    "# Extracción de tabla de posiciones de La Liga: Transfermarket\n",
    "for temporada in temporadas:\n",
    "    url = base_clubes_url + temporada\n",
    "    response = requests.get(url, headers=headers)\n",
    "\n",
    "    if response.status_code == 200:\n",
    "        df_teams = pd.read_html(response.text)[1]\n",
    "        df_teams.columns = [\"#\",\"extra\", \"club\", \"partidos\", \"ganados\", \"empatados\", \"perdidos\", \"goles\", \"+/-\", \"puntos\"]\n",
    "        dataframes_teams.append(df_teams)\n",
    "\n",
    "clubes_df = pd.concat(dataframes_teams, ignore_index=True)\n",
    "clubes_df[\"golesAFavor\"] = clubes_df[\"goles\"].str.split(\":\").str[0]\n",
    "clubes_df[\"golesEnContra\"] = clubes_df[\"goles\"].str.split(\":\").str[1]\n",
    "clubes_df.drop(columns=[\"goles\",\"extra\"], inplace=True)\n",
    "clubes_df[\"porcentajeVictorias\"] = clubes_df[\"ganados\"].astype(int) / clubes_df[\"partidos\"].astype(int) * 100\n",
    "clubes_df[\"porcentajeDerrotas\"] = clubes_df[\"perdidos\"].astype(int) / clubes_df[\"partidos\"].astype(int) * 100\n",
    "nuevo_orden = [\"#\", \"club\", \"partidos\", \"ganados\", \"empatados\", \"perdidos\", \"golesAFavor\", \"golesEnContra\", \"+/-\",\"porcentajeVictorias\", \"porcentajeDerrotas\", \"puntos\"]\n",
    "clubesf_df = clubes_df.reindex(columns=nuevo_orden)"
   ]
  },
  {
   "cell_type": "code",
   "execution_count": null,
   "metadata": {},
   "outputs": [],
   "source": [
    "# Crear df de Temporada - ID\n",
    "\n",
    "temporadas_clubes = np.repeat(temporadas_ID, 20).tolist()\n",
    "temporadas_goleadores = np.repeat(temporadas_ID, 10).tolist()\n",
    "\n",
    "inicio = 1999\n",
    "fin = 2024\n",
    "\n",
    "temporadas_df = pd.DataFrame({\n",
    "    \"id\": temporadas_ID,\n",
    "    \"temporadas\": temporadas\n",
    "})"
   ]
  },
  {
   "cell_type": "markdown",
   "metadata": {},
   "source": [
    "Goleadores de las temporadas desde 1999 hasta 2024"
   ]
  },
  {
   "cell_type": "code",
   "execution_count": null,
   "metadata": {},
   "outputs": [],
   "source": [
    "# Extracción de goleadores de La Liga: Transfermarket\n",
    "goleadores_df = []\n",
    "\n",
    "for temporada in temporadas:\n",
    "    scorers_url = f\"https://www.transfermarkt.pe/laliga/torschuetzenliste/wettbewerb/ES1/saison_id/{temporada}/altersklasse/alle/detailpos//plus/1\"\n",
    "    response = requests.get(scorers_url, headers=headers)\n",
    "\n",
    "    if response.status_code == 200: \n",
    "        df_players = pd.read_html(response.text)[1][:30]\n",
    "        goleadores_df.append(df_players)"
   ]
  },
  {
   "cell_type": "code",
   "execution_count": null,
   "metadata": {},
   "outputs": [],
   "source": [
    "# Limpiar y renombrar columnas\n",
    "goleadoresf_df = pd.concat(goleadores_df, ignore_index=True)\n",
    "goleadoresf_df.columns = [\"#\", \"jugador\", \"nacionalidad\", \"edad(Hoy)\", \"club\", \n",
    "                            \"partidosJugados\", \"asistencias\", \"penales\", \"minutosJugados\", \n",
    "                            \"minutosPorGol\", \"golesPorPartido\", \"goles\"]\n",
    "goleadoresf_df = goleadoresf_df[goleadoresf_df[\"#\"].notna()]\n",
    "goleadoresf_df.index = np.arange(len(goleadoresf_df))"
   ]
  },
  {
   "cell_type": "code",
   "execution_count": null,
   "metadata": {},
   "outputs": [],
   "source": [
    "# Posiciones de jugadores identificadas manualmente\n",
    "lista_posiciones = ['Mediapunta','Interior', 'Mediocentro', 'Delantero centro', 'Delantero','Extremo derecho', 'Mediocentro ofensivo', 'Extremo','Extremo izquierdo',]"
   ]
  },
  {
   "cell_type": "code",
   "execution_count": null,
   "metadata": {},
   "outputs": [],
   "source": [
    "# Limpieza y separación de nombres y posiciones\n",
    "\n",
    "series_nombres = []\n",
    "series_posiciones = []\n",
    "\n",
    "for jugador in goleadoresf_df[\"jugador\"].values:\n",
    "    found = False\n",
    "    for pos in jugador.split():\n",
    "        if pos in lista_posiciones:\n",
    "            index = jugador.find(pos)\n",
    "            series_nombres.append(jugador[:index].strip())\n",
    "            series_posiciones.append(jugador[index:].strip())\n",
    "            found = True\n",
    "            break\n",
    "\n",
    "goleadoresf_df[\"nombre\"] = series_nombres\n",
    "goleadoresf_df[\"posición\"] = series_posiciones"
   ]
  },
  {
   "cell_type": "code",
   "execution_count": null,
   "metadata": {},
   "outputs": [],
   "source": [
    "goleadoresf_df = goleadoresf_df.drop(columns=[\"jugador\"])"
   ]
  },
  {
   "cell_type": "code",
   "execution_count": null,
   "metadata": {},
   "outputs": [],
   "source": [
    "# Limpieza de datos\n",
    "arr_minutos = []\n",
    "\n",
    "for i in goleadoresf_df[\"minutosJugados\"].values:\n",
    "    arr_minutos.append(float(i.replace(\".\",\"\").replace(\"'\",\"\")))\n",
    "goleadoresf_df[\"minutosJugados\"] = arr_minutos\n",
    "\n",
    "arr_minutos_gol = []\n",
    "\n",
    "for i in goleadoresf_df[\"minutosPorGol\"].values:\n",
    "    arr_minutos_gol.append(float(i.replace(\"'\",\"\")))\n",
    "goleadoresf_df[\"minutosPorGol\"] = arr_minutos_gol\n",
    "\n",
    "goleadoresf_df[\"#\"] = goleadoresf_df[\"#\"].astype(int)\n",
    "\n",
    "goleadoresf_df[\"partidosJugados\"] = goleadoresf_df[\"partidosJugados\"].astype(int)\n",
    "\n",
    "goleadoresf_df[\"asistencias\"] = goleadoresf_df[\"asistencias\"].astype(int)\n",
    "\n",
    "goleadoresf_df[\"penales\"] = goleadoresf_df[\"penales\"].astype(int)"
   ]
  },
  {
   "cell_type": "code",
   "execution_count": null,
   "metadata": {},
   "outputs": [],
   "source": [
    "# Extracción de países y clubes de los goleadores mediante beautifulsoup\n",
    "arr_paises = []\n",
    "arr_clubes_jugador = []\n",
    "\n",
    "for temporada in temporadas:\n",
    "    url_pais = f\"https://www.transfermarkt.pe/laliga/torschuetzenliste/wettbewerb/ES1/saison_id/{temporada}/altersklasse/alle/detailpos//plus/1\"\n",
    "    response = requests.get(url_pais, headers=headers)\n",
    "    soup = BeautifulSoup(response.text, 'html.parser')\n",
    "    tabla = soup.find(\"table\", {\"class\": \"items\"})\n",
    "    tabla_body = tabla.find(\"tbody\")\n",
    "    \n",
    "    for i in range(10):\n",
    "        tabla_rows = tabla_body.find_all(\"tr\",{\"class\":[\"odd\",\"even\"]})[i]\n",
    "        tabla_cols_paises = tabla_rows.find_all(\"td\",{\"class\":\"zentriert\"})[1]\n",
    "        tabla_cols_club = tabla_rows.find_all(\"td\",{\"class\":\"zentriert\"})[3]\n",
    "\n",
    "        img = tabla_cols_paises.find(\"img\")\n",
    "        pais = img[\"title\"]\n",
    "        club = tabla_cols_club.find(\"a\")[\"title\"]\n",
    "\n",
    "        arr_paises.append(pais.strip())\n",
    "        arr_clubes_jugador.append(club.strip())\n",
    "        \n",
    "goleadoresf_df[\"nacionalidad\"] = arr_paises\n",
    "goleadoresf_df[\"club\"] = arr_clubes_jugador\n"
   ]
  },
  {
   "cell_type": "code",
   "execution_count": null,
   "metadata": {},
   "outputs": [],
   "source": [
    "# Limpieza de clubes para igualar los nombres:\n",
    "goleadoresf_df[\"club\"] = goleadoresf_df[\"club\"].str.replace(\"Real Racing Club\", \"Racing\")\n",
    "goleadoresf_df[\"club\"] = goleadoresf_df[\"club\"].str.replace(\"Atlético de Madrid\", \"Atlético Madrid\")\n",
    "goleadoresf_df[\"club\"] = goleadoresf_df[\"club\"].str.replace(\"RC Deportivo de La Coruña\", \"RC Deportivo\")\n",
    "goleadoresf_df[\"club\"] = goleadoresf_df[\"club\"].str.replace(\"Real Madrid CF\", \"Real Madrid\")\n",
    "goleadoresf_df[\"club\"] = goleadoresf_df[\"club\"].str.replace(\"Real Valladolid CF\", \"Real Valladolid\")\n",
    "goleadoresf_df[\"club\"] = goleadoresf_df[\"club\"].str.replace(\"Deportivo Alavés\", \"Alavés\")\n",
    "goleadoresf_df[\"club\"] = goleadoresf_df[\"club\"].str.replace(\"RC Celta de Vigo\", \"RC Celta\")\n",
    "goleadoresf_df[\"club\"] = goleadoresf_df[\"club\"].str.replace(\"Athletic Club\", \"Athletic\")\n",
    "goleadoresf_df[\"club\"] = goleadoresf_df[\"club\"].str.replace(\"Real Betis Balompié\", \"Real Betis\")\n"
   ]
  },
  {
   "cell_type": "code",
   "execution_count": null,
   "metadata": {},
   "outputs": [],
   "source": [
    "# Creación de ID para clubes\n",
    "arr_clubes = sorted(set(list(clubesf_df[\"club\"].unique()) + list(goleadoresf_df[\"club\"].unique())))\n",
    "club_id = generadorID(len(arr_clubes), \"C\")\n",
    "\n",
    "dict_clubes = dict(zip(arr_clubes,club_id))"
   ]
  },
  {
   "cell_type": "code",
   "execution_count": null,
   "metadata": {},
   "outputs": [],
   "source": [
    "# Mapeo de clubes a IDs en los dataframes\n",
    "clubesf_df[\"idClub\"] = clubesf_df[\"club\"].map(dict_clubes)\n",
    "clubesf_df[\"idTemporada\"] = temporadas_clubes\n",
    "df_final_orden = [\"idTemporada\", \"#\", \"club\", \"idClub\", \"partidos\", \"ganados\", \"empatados\", \"perdidos\", \"golesAFavor\", \"golesEnContra\", \"+/-\",\"porcentajeVictorias\", \"porcentajeDerrotas\", \"puntos\"]\n",
    "clubesf_df = clubesf_df[df_final_orden]\n",
    "\n",
    "# Mapeo de goleadores a IDs en los dataframes\n",
    "goleadoresf_df[\"idClub\"] = goleadoresf_df[\"club\"].map(dict_clubes)\n",
    "goleadoresf_df[\"idTemporada\"] = temporadas_goleadores\n",
    "df_jugador_orden = [\"idTemporada\", \"#\", \"nombre\", \"posición\", \"nacionalidad\", \"club\", \"idClub\", \"partidosJugados\", \"asistencias\", \"penales\", \"minutosJugados\", \"minutosPorGol\", \"golesPorPartido\", \"goles\"]\n",
    "goleadoresf_df = goleadoresf_df[df_jugador_orden]\n"
   ]
  },
  {
   "cell_type": "code",
   "execution_count": null,
   "metadata": {},
   "outputs": [],
   "source": [
    "clubes_id_df = pd.DataFrame(dict_clubes.items(), columns=[\"club\", \"id\"])\n",
    "orden_clubes = [\"id\", \"club\"]\n",
    "clubes_id_df = clubes_id_df.reindex(columns=orden_clubes)"
   ]
  },
  {
   "cell_type": "code",
   "execution_count": null,
   "metadata": {},
   "outputs": [],
   "source": [
    "# Convertimos todos los dataframes a CSV\n",
    "\n",
    "clubesf_df.to_csv(\"clubes_liga.csv\", index=False, encoding=\"utf-8\")\n",
    "goleadoresf_df.to_csv(\"goleadores_liga.csv\", index=False, encoding=\"utf-8\")\n",
    "temporadas_df.to_csv(\"temporadas_liga.csv\", index=False, encoding=\"utf-8\")\n",
    "clubes_id_df.to_csv(\"clubes_id_liga.csv\", index=False, encoding=\"utf-8\")"
   ]
  }
 ],
 "metadata": {
  "kernelspec": {
   "display_name": "base",
   "language": "python",
   "name": "python3"
  },
  "language_info": {
   "codemirror_mode": {
    "name": "ipython",
    "version": 3
   },
   "file_extension": ".py",
   "mimetype": "text/x-python",
   "name": "python",
   "nbconvert_exporter": "python",
   "pygments_lexer": "ipython3",
   "version": "3.11.7"
  }
 },
 "nbformat": 4,
 "nbformat_minor": 2
}
